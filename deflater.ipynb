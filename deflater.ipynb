{
 "cells": [
  {
   "cell_type": "markdown",
   "metadata": {},
   "source": [
    "# Auto deflate an uploaded zip into a bucket"
   ]
  },
  {
   "cell_type": "markdown",
   "metadata": {},
   "source": [
    "### Imports"
   ]
  },
  {
   "cell_type": "code",
   "execution_count": null,
   "metadata": {},
   "outputs": [],
   "source": [
    "!pip install boto3 tqdm"
   ]
  },
  {
   "cell_type": "code",
   "execution_count": 1,
   "metadata": {},
   "outputs": [],
   "source": [
    "import boto3\n",
    "import json\n",
    "from tqdm import tqdm_notebook as tqdm\n",
    "import os"
   ]
  },
  {
   "cell_type": "markdown",
   "metadata": {},
   "source": [
    "### Constants"
   ]
  },
  {
   "cell_type": "code",
   "execution_count": 2,
   "metadata": {},
   "outputs": [],
   "source": [
    "profile_name = 'josefigueredo' # or default\n",
    "region_name ='us-east-1'\n",
    "origin_bucket = 'test-zip-origin-jf'\n",
    "arn_origin_bucket = 'arn:aws:s3:::' + origin_bucket\n",
    "destiny_bucket = 'test-zip-destiny-jf'\n",
    "arn_destiny_bucket = 'arn:aws:s3:::' + destiny_bucket\n",
    "role_lambda_s3_name = 'LambdaExecutionFullS3'\n",
    "arn_aws_lambda_execution_fulls3_role = 'arn:aws:iam::aws:policy/service-role/AWSLambdaBasicExecutionRole'\n",
    "arn_amazon_s3_full_access = 'arn:aws:iam::aws:policy/AmazonS3FullAccess'\n",
    "function_name = 'deflater'\n",
    "runtime = 'python3.7'\n",
    "handler = 'lambda_unzip.lambda_handler'\n",
    "lambda_zip_file_path = './lambda.zip'\n",
    "lambda_zip_file_name = 'lambda.zip'\n",
    "aws_lambda_group_name = '/aws/lambda/deflater'"
   ]
  },
  {
   "cell_type": "markdown",
   "metadata": {},
   "source": [
    "### Clients"
   ]
  },
  {
   "cell_type": "code",
   "execution_count": 3,
   "metadata": {},
   "outputs": [],
   "source": [
    "boto3.setup_default_session(profile_name = profile_name)\n",
    "\n",
    "s3_client = boto3.client('s3', region_name = region_name)\n",
    "iam_client = boto3.client('iam', region_name = region_name)\n",
    "lambda_client = boto3.client('lambda', region_name = region_name)\n",
    "logs_client = boto3.client('logs', region_name = region_name)"
   ]
  },
  {
   "cell_type": "markdown",
   "metadata": {},
   "source": [
    "## Infrastructure"
   ]
  },
  {
   "cell_type": "markdown",
   "metadata": {},
   "source": [
    "### S3"
   ]
  },
  {
   "cell_type": "code",
   "execution_count": 4,
   "metadata": {},
   "outputs": [
    {
     "data": {
      "text/plain": [
       "{'ResponseMetadata': {'RequestId': 'B3BA1CD568DA3DA3',\n",
       "  'HostId': 'ueiny+hJB2G34o8EJXwWxml25Pn2q8O0i0opJlHUPy48KbfsTik4VNClg19s1w5dXpDh0O1VeMQ=',\n",
       "  'HTTPStatusCode': 200,\n",
       "  'HTTPHeaders': {'x-amz-id-2': 'ueiny+hJB2G34o8EJXwWxml25Pn2q8O0i0opJlHUPy48KbfsTik4VNClg19s1w5dXpDh0O1VeMQ=',\n",
       "   'x-amz-request-id': 'B3BA1CD568DA3DA3',\n",
       "   'date': 'Mon, 07 Oct 2019 02:25:18 GMT',\n",
       "   'location': '/test-zip-origin-jf',\n",
       "   'content-length': '0',\n",
       "   'server': 'AmazonS3'},\n",
       "  'RetryAttempts': 0},\n",
       " 'Location': '/test-zip-origin-jf'}"
      ]
     },
     "execution_count": 4,
     "metadata": {},
     "output_type": "execute_result"
    }
   ],
   "source": [
    "s3_create_bucket_origin_response = s3_client.create_bucket(Bucket = origin_bucket)\n",
    "s3_create_bucket_origin_response"
   ]
  },
  {
   "cell_type": "code",
   "execution_count": 5,
   "metadata": {},
   "outputs": [
    {
     "data": {
      "text/plain": [
       "{'ResponseMetadata': {'RequestId': '4FFFC186422C5D68',\n",
       "  'HostId': 'PxLknEQDmszwg+gcPbFhGkmECLkqrJW9MRTkH7EOsE1V/bBZofTdLVRF8+D7F/wapf7M5Arhug0=',\n",
       "  'HTTPStatusCode': 200,\n",
       "  'HTTPHeaders': {'x-amz-id-2': 'PxLknEQDmszwg+gcPbFhGkmECLkqrJW9MRTkH7EOsE1V/bBZofTdLVRF8+D7F/wapf7M5Arhug0=',\n",
       "   'x-amz-request-id': '4FFFC186422C5D68',\n",
       "   'date': 'Mon, 07 Oct 2019 02:25:21 GMT',\n",
       "   'location': '/test-zip-destiny-jf',\n",
       "   'content-length': '0',\n",
       "   'server': 'AmazonS3'},\n",
       "  'RetryAttempts': 0},\n",
       " 'Location': '/test-zip-destiny-jf'}"
      ]
     },
     "execution_count": 5,
     "metadata": {},
     "output_type": "execute_result"
    }
   ],
   "source": [
    "s3_create_bucket_destiny_response = s3_client.create_bucket(Bucket = destiny_bucket)\n",
    "s3_create_bucket_destiny_response"
   ]
  },
  {
   "cell_type": "markdown",
   "metadata": {},
   "source": [
    "### Role"
   ]
  },
  {
   "cell_type": "code",
   "execution_count": 6,
   "metadata": {},
   "outputs": [
    {
     "data": {
      "text/plain": [
       "{'Version': '2012-10-17',\n",
       " 'Statement': [{'Sid': '',\n",
       "   'Effect': 'Allow',\n",
       "   'Principal': {'Service': 'lambda.amazonaws.com'},\n",
       "   'Action': 'sts:AssumeRole'}]}"
      ]
     },
     "execution_count": 6,
     "metadata": {},
     "output_type": "execute_result"
    }
   ],
   "source": [
    "role_policy_document = {\n",
    "  \"Version\": \"2012-10-17\",\n",
    "  \"Statement\": [\n",
    "    {\n",
    "      \"Sid\": \"\",\n",
    "      \"Effect\": \"Allow\",\n",
    "      \"Principal\": {\n",
    "        \"Service\": \"lambda.amazonaws.com\"\n",
    "      },\n",
    "      \"Action\": \"sts:AssumeRole\"\n",
    "    }\n",
    "  ]\n",
    "}\n",
    "role_policy_document"
   ]
  },
  {
   "cell_type": "code",
   "execution_count": 7,
   "metadata": {},
   "outputs": [
    {
     "data": {
      "text/plain": [
       "'{\"Version\": \"2012-10-17\", \"Statement\": [{\"Sid\": \"\", \"Effect\": \"Allow\", \"Principal\": {\"Service\": \"lambda.amazonaws.com\"}, \"Action\": \"sts:AssumeRole\"}]}'"
      ]
     },
     "execution_count": 7,
     "metadata": {},
     "output_type": "execute_result"
    }
   ],
   "source": [
    "json_role_policy_document = json.dumps(role_policy_document)\n",
    "json_role_policy_document"
   ]
  },
  {
   "cell_type": "code",
   "execution_count": 8,
   "metadata": {},
   "outputs": [
    {
     "data": {
      "text/plain": [
       "{'Role': {'Path': '/',\n",
       "  'RoleName': 'LambdaExecutionFullS3',\n",
       "  'RoleId': 'AROAVYUVUBFCHSE4FQTVA',\n",
       "  'Arn': 'arn:aws:iam::396524521796:role/LambdaExecutionFullS3',\n",
       "  'CreateDate': datetime.datetime(2019, 10, 7, 2, 25, 30, tzinfo=tzutc()),\n",
       "  'AssumeRolePolicyDocument': {'Version': '2012-10-17',\n",
       "   'Statement': [{'Sid': '',\n",
       "     'Effect': 'Allow',\n",
       "     'Principal': {'Service': 'lambda.amazonaws.com'},\n",
       "     'Action': 'sts:AssumeRole'}]}},\n",
       " 'ResponseMetadata': {'RequestId': 'bb6905ef-e8a9-11e9-8659-cd21a764f458',\n",
       "  'HTTPStatusCode': 200,\n",
       "  'HTTPHeaders': {'x-amzn-requestid': 'bb6905ef-e8a9-11e9-8659-cd21a764f458',\n",
       "   'content-type': 'text/xml',\n",
       "   'content-length': '823',\n",
       "   'date': 'Mon, 07 Oct 2019 02:25:29 GMT'},\n",
       "  'RetryAttempts': 0}}"
      ]
     },
     "execution_count": 8,
     "metadata": {},
     "output_type": "execute_result"
    }
   ],
   "source": [
    "iam_create_role_response = iam_client.create_role(\n",
    "  RoleName = role_lambda_s3_name,\n",
    "  AssumeRolePolicyDocument = json_role_policy_document,\n",
    ")\n",
    "iam_create_role_response"
   ]
  },
  {
   "cell_type": "code",
   "execution_count": 9,
   "metadata": {},
   "outputs": [
    {
     "data": {
      "text/plain": [
       "'arn:aws:iam::396524521796:role/LambdaExecutionFullS3'"
      ]
     },
     "execution_count": 9,
     "metadata": {},
     "output_type": "execute_result"
    }
   ],
   "source": [
    "arn_role = iam_create_role_response.get('Role').get('Arn')\n",
    "arn_role"
   ]
  },
  {
   "cell_type": "code",
   "execution_count": 10,
   "metadata": {},
   "outputs": [
    {
     "data": {
      "text/plain": [
       "{'ResponseMetadata': {'RequestId': 'bd0a8158-e8a9-11e9-8659-cd21a764f458',\n",
       "  'HTTPStatusCode': 200,\n",
       "  'HTTPHeaders': {'x-amzn-requestid': 'bd0a8158-e8a9-11e9-8659-cd21a764f458',\n",
       "   'content-type': 'text/xml',\n",
       "   'content-length': '212',\n",
       "   'date': 'Mon, 07 Oct 2019 02:25:32 GMT'},\n",
       "  'RetryAttempts': 0}}"
      ]
     },
     "execution_count": 10,
     "metadata": {},
     "output_type": "execute_result"
    }
   ],
   "source": [
    "iam_attach_role_1_response = iam_client.attach_role_policy(\n",
    "    RoleName = role_lambda_s3_name,\n",
    "    PolicyArn = arn_aws_lambda_execution_fulls3_role,\n",
    ")\n",
    "iam_attach_role_1_response"
   ]
  },
  {
   "cell_type": "code",
   "execution_count": 11,
   "metadata": {},
   "outputs": [
    {
     "data": {
      "text/plain": [
       "{'ResponseMetadata': {'RequestId': 'bdbd56ea-e8a9-11e9-8659-cd21a764f458',\n",
       "  'HTTPStatusCode': 200,\n",
       "  'HTTPHeaders': {'x-amzn-requestid': 'bdbd56ea-e8a9-11e9-8659-cd21a764f458',\n",
       "   'content-type': 'text/xml',\n",
       "   'content-length': '212',\n",
       "   'date': 'Mon, 07 Oct 2019 02:25:33 GMT'},\n",
       "  'RetryAttempts': 0}}"
      ]
     },
     "execution_count": 11,
     "metadata": {},
     "output_type": "execute_result"
    }
   ],
   "source": [
    "iam_attach_role_2_response = iam_client.attach_role_policy(\n",
    "    RoleName = role_lambda_s3_name,\n",
    "    PolicyArn = arn_amazon_s3_full_access\n",
    ")\n",
    "iam_attach_role_2_response"
   ]
  },
  {
   "cell_type": "code",
   "execution_count": 12,
   "metadata": {},
   "outputs": [
    {
     "data": {
      "text/plain": [
       "{'Role': {'Path': '/',\n",
       "  'RoleName': 'LambdaExecutionFullS3',\n",
       "  'RoleId': 'AROAVYUVUBFCHSE4FQTVA',\n",
       "  'Arn': 'arn:aws:iam::396524521796:role/LambdaExecutionFullS3',\n",
       "  'CreateDate': datetime.datetime(2019, 10, 7, 2, 25, 30, tzinfo=tzutc()),\n",
       "  'AssumeRolePolicyDocument': {'Version': '2012-10-17',\n",
       "   'Statement': [{'Sid': '',\n",
       "     'Effect': 'Allow',\n",
       "     'Principal': {'Service': 'lambda.amazonaws.com'},\n",
       "     'Action': 'sts:AssumeRole'}]},\n",
       "  'MaxSessionDuration': 3600},\n",
       " 'ResponseMetadata': {'RequestId': 'be94a407-e8a9-11e9-8659-cd21a764f458',\n",
       "  'HTTPStatusCode': 200,\n",
       "  'HTTPHeaders': {'x-amzn-requestid': 'be94a407-e8a9-11e9-8659-cd21a764f458',\n",
       "   'content-type': 'text/xml',\n",
       "   'content-length': '830',\n",
       "   'date': 'Mon, 07 Oct 2019 02:25:35 GMT'},\n",
       "  'RetryAttempts': 0}}"
      ]
     },
     "execution_count": 12,
     "metadata": {},
     "output_type": "execute_result"
    }
   ],
   "source": [
    "iam_get_role = iam_client.get_role(RoleName = role_lambda_s3_name)\n",
    "iam_get_role"
   ]
  },
  {
   "cell_type": "markdown",
   "metadata": {},
   "source": [
    "### Lambda"
   ]
  },
  {
   "cell_type": "code",
   "execution_count": null,
   "metadata": {},
   "outputs": [],
   "source": [
    "%%bash\n",
    "rm -r ./pytemp\n",
    "mkdir ./pytemp\n",
    "cd pytemp\n",
    "pip install boto3 --target .\n",
    "cat << EOF > lambda_unzip.py\n",
    "from __future__ import print_function\n",
    "\n",
    "import urllib\n",
    "from urllib.parse import quote\n",
    "import zipfile\n",
    "import boto3\n",
    "import io\n",
    "\n",
    "print('Loading function')\n",
    "\n",
    "s3 = boto3.client('s3')\n",
    "\n",
    "destiny_bucket = 'test-zip-destiny-jf'\n",
    "\n",
    "def lambda_handler(event, context):\n",
    "    key = quote(event['Records'][0]['s3']['object']['key'].encode('utf8'))\n",
    "    origin_bucket = quote(event['Records'][0]['s3']['object']['key'].encode('utf8'))\n",
    "    try:\n",
    "        obj = s3.get_object(\n",
    "            Bucket = origin_bucket,\n",
    "            Key = key,\n",
    "        )\n",
    "        putObjects = []\n",
    "        # Write zip file files into destiny_bucket\n",
    "        with io.BytesIO(obj[\"Body\"].read()) as tf:\n",
    "            tf.seek(0)\n",
    "            with zipfile.ZipFile(tf, mode='r') as zipf:\n",
    "                for file in zipf.infolist():\n",
    "                    fileName = file.filename\n",
    "                    putFile = s3.put_object(\n",
    "                        Bucket = destiny_bucket,\n",
    "                        Key = fileName,\n",
    "                        Body = zipf.read(file)\n",
    "                    )\n",
    "                    putObjects.append(putFile)\n",
    "                    print(putFile)\n",
    "\n",
    "        # Delete zip file from origin_bucket\n",
    "        if len(putObjects) > 0:\n",
    "            print('')\n",
    "            deletedObj = s3.delete_object(\n",
    "                Bucket = origin_bucket,\n",
    "                Key = key\n",
    "            )\n",
    "            print('deleted file:')\n",
    "            print(deletedObj)\n",
    "    except Exception as e:\n",
    "        print(e)\n",
    "        raise e\n",
    "EOF\n",
    "chmod -R 755 .\n",
    "zip -r ../lambda.zip .\n",
    "unzip -l ../lambda.zip"
   ]
  },
  {
   "cell_type": "code",
   "execution_count": 13,
   "metadata": {},
   "outputs": [],
   "source": [
    "env_variables = dict()"
   ]
  },
  {
   "cell_type": "code",
   "execution_count": 14,
   "metadata": {},
   "outputs": [],
   "source": [
    "with open(lambda_zip_file_path, 'rb') as f:\n",
    "    zipped_code = f.read()"
   ]
  },
  {
   "cell_type": "code",
   "execution_count": 15,
   "metadata": {},
   "outputs": [
    {
     "data": {
      "text/plain": [
       "{'ResponseMetadata': {'RequestId': '136beaf9-bcaa-432a-aef7-c73d5282262a',\n",
       "  'HTTPStatusCode': 201,\n",
       "  'HTTPHeaders': {'date': 'Mon, 07 Oct 2019 02:26:46 GMT',\n",
       "   'content-type': 'application/json',\n",
       "   'content-length': '795',\n",
       "   'connection': 'keep-alive',\n",
       "   'x-amzn-requestid': '136beaf9-bcaa-432a-aef7-c73d5282262a'},\n",
       "  'RetryAttempts': 0},\n",
       " 'FunctionName': 'deflater',\n",
       " 'FunctionArn': 'arn:aws:lambda:us-east-1:396524521796:function:deflater',\n",
       " 'Runtime': 'python3.7',\n",
       " 'Role': 'arn:aws:iam::396524521796:role/LambdaExecutionFullS3',\n",
       " 'Handler': 'lambda_unzip.lambda_handler',\n",
       " 'CodeSize': 8597729,\n",
       " 'Description': '',\n",
       " 'Timeout': 300,\n",
       " 'MemorySize': 128,\n",
       " 'LastModified': '2019-10-07T02:26:45.998+0000',\n",
       " 'CodeSha256': 'WWXGp7ZC0NDwY+1PkzLKv3Q1rXYXLzZPmdSzVxZ/BQk=',\n",
       " 'Version': '$LATEST',\n",
       " 'Environment': {'Variables': {}},\n",
       " 'TracingConfig': {'Mode': 'PassThrough'},\n",
       " 'RevisionId': '5976a006-a293-4c67-a0a6-2627d9f4074b'}"
      ]
     },
     "execution_count": 15,
     "metadata": {},
     "output_type": "execute_result"
    }
   ],
   "source": [
    "lambda_create_func_response = lambda_client.create_function(\n",
    "    FunctionName = function_name,\n",
    "    Runtime = runtime,\n",
    "    Role = iam_get_role['Role']['Arn'],\n",
    "    Handler = handler,\n",
    "    Code = dict(ZipFile = zipped_code),\n",
    "    Timeout = 300,\n",
    "    Environment = dict(Variables = env_variables),\n",
    ")\n",
    "lambda_create_func_response"
   ]
  },
  {
   "cell_type": "code",
   "execution_count": 16,
   "metadata": {},
   "outputs": [
    {
     "data": {
      "text/plain": [
       "'arn:aws:lambda:us-east-1:396524521796:function:deflater'"
      ]
     },
     "execution_count": 16,
     "metadata": {},
     "output_type": "execute_result"
    }
   ],
   "source": [
    "arn_lambda = lambda_create_func_response.get('FunctionArn')\n",
    "arn_lambda"
   ]
  },
  {
   "cell_type": "markdown",
   "metadata": {},
   "source": [
    "### Trigger"
   ]
  },
  {
   "cell_type": "code",
   "execution_count": 17,
   "metadata": {},
   "outputs": [
    {
     "data": {
      "text/plain": [
       "{'ResponseMetadata': {'RequestId': '95cef67b-2db8-4269-9d27-9b3434ee6bf1',\n",
       "  'HTTPStatusCode': 201,\n",
       "  'HTTPHeaders': {'date': 'Mon, 07 Oct 2019 02:29:27 GMT',\n",
       "   'content-type': 'application/json',\n",
       "   'content-length': '306',\n",
       "   'connection': 'keep-alive',\n",
       "   'x-amzn-requestid': '95cef67b-2db8-4269-9d27-9b3434ee6bf1'},\n",
       "  'RetryAttempts': 0},\n",
       " 'Statement': '{\"Sid\":\"sid-deflater\",\"Effect\":\"Allow\",\"Principal\":{\"Service\":\"s3.amazonaws.com\"},\"Action\":\"lambda:InvokeFunction\",\"Resource\":\"arn:aws:lambda:us-east-1:396524521796:function:deflater\",\"Condition\":{\"ArnLike\":{\"AWS:SourceArn\":\"arn:aws:s3:::test-zip-origin-jf\"}}}'}"
      ]
     },
     "execution_count": 17,
     "metadata": {},
     "output_type": "execute_result"
    }
   ],
   "source": [
    "lambda_add_permission_response = lambda_client.add_permission(\n",
    "    FunctionName = function_name,\n",
    "    StatementId = 'sid-deflater',\n",
    "    Action = 'lambda:InvokeFunction',\n",
    "    Principal = 's3.amazonaws.com',\n",
    "    SourceArn = arn_origin_bucket\n",
    ")\n",
    "lambda_add_permission_response"
   ]
  },
  {
   "cell_type": "code",
   "execution_count": 18,
   "metadata": {},
   "outputs": [
    {
     "data": {
      "text/plain": [
       "{'LambdaFunctionConfigurations': [{'LambdaFunctionArn': 'arn:aws:lambda:us-east-1:396524521796:function:deflater',\n",
       "   'Events': ['s3:ObjectCreated:*']}]}"
      ]
     },
     "execution_count": 18,
     "metadata": {},
     "output_type": "execute_result"
    }
   ],
   "source": [
    "notification_configuration = { \n",
    "  \"LambdaFunctionConfigurations\":[ \n",
    "    { \n",
    "      \"LambdaFunctionArn\":arn_lambda,\n",
    "      \"Events\":[ \n",
    "        \"s3:ObjectCreated:*\"\n",
    "      ]\n",
    "    }\n",
    "  ]\n",
    "}\n",
    "notification_configuration"
   ]
  },
  {
   "cell_type": "code",
   "execution_count": 19,
   "metadata": {},
   "outputs": [
    {
     "data": {
      "text/plain": [
       "'{\"LambdaFunctionConfigurations\": [{\"LambdaFunctionArn\": \"arn:aws:lambda:us-east-1:396524521796:function:deflater\", \"Events\": [\"s3:ObjectCreated:*\"]}]}'"
      ]
     },
     "execution_count": 19,
     "metadata": {},
     "output_type": "execute_result"
    }
   ],
   "source": [
    "json_notification_configuration = json.dumps(notification_configuration)\n",
    "json_notification_configuration"
   ]
  },
  {
   "cell_type": "code",
   "execution_count": 20,
   "metadata": {},
   "outputs": [
    {
     "data": {
      "text/plain": [
       "{'ResponseMetadata': {'RequestId': 'C44370D9FB104DD7',\n",
       "  'HostId': 'qaqrjjvijuaVLfJGTjXwTpMBJMnYXOK6OT0t7NK/tRLF671Kzx4OvFPBMfLrdzGKECDrGpKlfq4=',\n",
       "  'HTTPStatusCode': 200,\n",
       "  'HTTPHeaders': {'x-amz-id-2': 'qaqrjjvijuaVLfJGTjXwTpMBJMnYXOK6OT0t7NK/tRLF671Kzx4OvFPBMfLrdzGKECDrGpKlfq4=',\n",
       "   'x-amz-request-id': 'C44370D9FB104DD7',\n",
       "   'date': 'Mon, 07 Oct 2019 02:29:33 GMT',\n",
       "   'content-length': '0',\n",
       "   'server': 'AmazonS3'},\n",
       "  'RetryAttempts': 0}}"
      ]
     },
     "execution_count": 20,
     "metadata": {},
     "output_type": "execute_result"
    }
   ],
   "source": [
    "s3_put_notif_response = s3_client.put_bucket_notification_configuration(\n",
    "    Bucket = origin_bucket,\n",
    "    NotificationConfiguration = notification_configuration\n",
    ")\n",
    "s3_put_notif_response"
   ]
  },
  {
   "cell_type": "markdown",
   "metadata": {},
   "source": [
    "<hr></hr>"
   ]
  },
  {
   "cell_type": "markdown",
   "metadata": {},
   "source": [
    "## Testing"
   ]
  },
  {
   "cell_type": "markdown",
   "metadata": {},
   "source": [
    "### Upload"
   ]
  },
  {
   "cell_type": "code",
   "execution_count": 22,
   "metadata": {},
   "outputs": [
    {
     "name": "stdout",
     "output_type": "stream",
     "text": [
      "  adding: file_1.txt (stored 0%)\n",
      "  adding: file_2.txt (stored 0%)\n",
      "Archive:  ../testdata.zip\n",
      "  Length      Date    Time    Name\n",
      "---------  ---------- -----   ----\n",
      "        8  2019-10-06 23:29   file_1.txt\n",
      "        8  2019-10-06 23:29   file_2.txt\n",
      "---------                     -------\n",
      "       16                     2 files\n"
     ]
    }
   ],
   "source": [
    "%%bash\n",
    "rm -r ./uptemp\n",
    "mkdir ./uptemp\n",
    "cd uptemp\n",
    "cat << EOF > file_1.txt\n",
    "File #1\n",
    "EOF\n",
    "cat << EOF > file_2.txt\n",
    "File #2\n",
    "EOF\n",
    "zip -r ../testdata.zip .\n",
    "unzip -l ../testdata.zip"
   ]
  },
  {
   "cell_type": "code",
   "execution_count": 30,
   "metadata": {},
   "outputs": [
    {
     "data": {
      "application/vnd.jupyter.widget-view+json": {
       "model_id": "7add8ffc7cb749fa85a03a48f749ce2f",
       "version_major": 2,
       "version_minor": 0
      },
      "text/plain": [
       "HBox(children=(IntProgress(value=0, description='lambda.zip', max=334, style=ProgressStyle(description_width='…"
      ]
     },
     "metadata": {},
     "output_type": "display_data"
    },
    {
     "name": "stdout",
     "output_type": "stream",
     "text": [
      "\n"
     ]
    }
   ],
   "source": [
    "def hook(t):\n",
    "    def inner(bytes_amount):\n",
    "        t.update(bytes_amount)\n",
    "    return inner\n",
    "\n",
    "filesize = float(os.path.getsize('testdata.zip'))\n",
    "\n",
    "with tqdm(total=filesize, unit='B', unit_scale=True, desc=lambda_zip_file_name) as t:\n",
    "    s3_upload_response = s3_client.upload_file(\n",
    "        'testdata.zip',\n",
    "        origin_bucket,\n",
    "        'testdata.zip',\n",
    "        Callback = hook(t)\n",
    "    )"
   ]
  },
  {
   "cell_type": "markdown",
   "metadata": {},
   "source": [
    "### Check"
   ]
  },
  {
   "cell_type": "code",
   "execution_count": 31,
   "metadata": {},
   "outputs": [
    {
     "data": {
      "text/plain": [
       "{'ResponseMetadata': {'RequestId': '9387C8BA4DCAE0DE',\n",
       "  'HostId': 'nU0nnFqWcxi83Cn7rlTPhhpHjPtEALkbbNaeBuLjWG65NNDhc1crTKOPOJMNmfwJCZ1H/Zg3m00=',\n",
       "  'HTTPStatusCode': 200,\n",
       "  'HTTPHeaders': {'x-amz-id-2': 'nU0nnFqWcxi83Cn7rlTPhhpHjPtEALkbbNaeBuLjWG65NNDhc1crTKOPOJMNmfwJCZ1H/Zg3m00=',\n",
       "   'x-amz-request-id': '9387C8BA4DCAE0DE',\n",
       "   'date': 'Mon, 07 Oct 2019 02:38:27 GMT',\n",
       "   'last-modified': 'Mon, 07 Oct 2019 02:38:25 GMT',\n",
       "   'etag': '\"691aabc8fd355b2b985334afc0003b7f\"',\n",
       "   'accept-ranges': 'bytes',\n",
       "   'content-type': 'binary/octet-stream',\n",
       "   'content-length': '8',\n",
       "   'server': 'AmazonS3'},\n",
       "  'RetryAttempts': 0},\n",
       " 'AcceptRanges': 'bytes',\n",
       " 'LastModified': datetime.datetime(2019, 10, 7, 2, 38, 25, tzinfo=tzutc()),\n",
       " 'ContentLength': 8,\n",
       " 'ETag': '\"691aabc8fd355b2b985334afc0003b7f\"',\n",
       " 'ContentType': 'binary/octet-stream',\n",
       " 'Metadata': {},\n",
       " 'Body': <botocore.response.StreamingBody at 0x7f60c43bb5c0>}"
      ]
     },
     "execution_count": 31,
     "metadata": {},
     "output_type": "execute_result"
    }
   ],
   "source": [
    "obj = s3_client.get_object(\n",
    "    Bucket = destiny_bucket,\n",
    "    Key = 'file_1.txt',\n",
    ")\n",
    "obj"
   ]
  },
  {
   "cell_type": "code",
   "execution_count": 32,
   "metadata": {},
   "outputs": [
    {
     "data": {
      "text/plain": [
       "b'File #1\\n'"
      ]
     },
     "execution_count": 32,
     "metadata": {},
     "output_type": "execute_result"
    }
   ],
   "source": [
    "body = obj['Body'].read()\n",
    "body"
   ]
  },
  {
   "cell_type": "markdown",
   "metadata": {},
   "source": [
    "### Logs"
   ]
  },
  {
   "cell_type": "code",
   "execution_count": 33,
   "metadata": {},
   "outputs": [
    {
     "data": {
      "text/plain": [
       "{'events': [{'logStreamName': '2019/10/07/[$LATEST]c56d3cc87d6e41c3a18a4c9d1a66a6d1',\n",
       "   'timestamp': 1570415722834,\n",
       "   'message': 'Loading function\\n',\n",
       "   'ingestionTime': 1570415722852,\n",
       "   'eventId': '35021440890687323377397779014855515864568234107964555264'},\n",
       "  {'logStreamName': '2019/10/07/[$LATEST]c56d3cc87d6e41c3a18a4c9d1a66a6d1',\n",
       "   'timestamp': 1570415722914,\n",
       "   'message': 'START RequestId: 39e705d5-3fb7-4bcd-88a3-9625aae08130 Version: $LATEST\\n',\n",
       "   'ingestionTime': 1570415722931,\n",
       "   'eventId': '35021440892471382993280228866273395484552711872197361664'},\n",
       "  {'logStreamName': '2019/10/07/[$LATEST]c56d3cc87d6e41c3a18a4c9d1a66a6d1',\n",
       "   'timestamp': 1570415722915,\n",
       "   'message': '1\\n',\n",
       "   'ingestionTime': 1570415738043,\n",
       "   'eventId': '35021440892493683738478759507684464667739930732566413312'},\n",
       "  {'logStreamName': '2019/10/07/[$LATEST]c56d3cc87d6e41c3a18a4c9d1a66a6d1',\n",
       "   'timestamp': 1570415722915,\n",
       "   'message': \"{'Records': [{'eventVersion': '2.1', 'eventSource': 'aws:s3', 'awsRegion': 'us-east-1', 'eventTime': '2019-10-07T02:35:14.347Z', 'eventName': 'ObjectCreated:Put', 'userIdentity': {'principalId': 'AWS:AIDAVYUVUBFCOOYKNWUUS'}, 'requestParameters': {'sourceIPAddress': '181.23.216.135'}, 'responseElements': {'x-amz-request-id': '24A66760803B2DE7', 'x-amz-id-2': '8xWwYdukpwMdhLZFjS4lz8W9akLC04ng6UG62lWmIdmt2JtL1iSG5tyss+seL4xeiC4ee+O0bzg='}, 's3': {'s3SchemaVersion': '1.0', 'configurationId': 'ZDEzZTcxNjgtZmFiMC00ZTYzLWI0N2YtMTZjODkxZmQxYjZj', 'bucket': {'name': 'test-zip-origin-jf', 'ownerIdentity': {'principalId': 'A1W5MKE6MCI7XX'}, 'arn': 'arn:aws:s3:::test-zip-origin-jf'}, 'object': {'key': 'testdata.zip', 'size': 334, 'eTag': '53f4bdbf8af8bad4613742e9f78078bb', 'sequencer': '005D9AA4620F67E588'}}}]}\\n\",\n",
       "   'ingestionTime': 1570415738043,\n",
       "   'eventId': '35021440892493683738478759507684464667739930732566413313'},\n",
       "  {'logStreamName': '2019/10/07/[$LATEST]c56d3cc87d6e41c3a18a4c9d1a66a6d1',\n",
       "   'timestamp': 1570415722915,\n",
       "   'message': 'testdata.zip\\n',\n",
       "   'ingestionTime': 1570415738043,\n",
       "   'eventId': '35021440892493683738478759507684464667739930732566413314'},\n",
       "  {'logStreamName': '2019/10/07/[$LATEST]c56d3cc87d6e41c3a18a4c9d1a66a6d1',\n",
       "   'timestamp': 1570415723160,\n",
       "   'message': '2\\n',\n",
       "   'ingestionTime': 1570415738043,\n",
       "   'eventId': '35021440897957366312118762177360715644538779301531615235'},\n",
       "  {'logStreamName': '2019/10/07/[$LATEST]c56d3cc87d6e41c3a18a4c9d1a66a6d1',\n",
       "   'timestamp': 1570415723160,\n",
       "   'message': '3\\n',\n",
       "   'ingestionTime': 1570415738043,\n",
       "   'eventId': '35021440897957366312118762177360715644538779301531615236'},\n",
       "  {'logStreamName': '2019/10/07/[$LATEST]c56d3cc87d6e41c3a18a4c9d1a66a6d1',\n",
       "   'timestamp': 1570415723180,\n",
       "   'message': '4\\n',\n",
       "   'ingestionTime': 1570415738043,\n",
       "   'eventId': '35021440898403381216089374640191430009991746531651223557'},\n",
       "  {'logStreamName': '2019/10/07/[$LATEST]c56d3cc87d6e41c3a18a4c9d1a66a6d1',\n",
       "   'timestamp': 1570415723180,\n",
       "   'message': '5\\n',\n",
       "   'ingestionTime': 1570415738043,\n",
       "   'eventId': '35021440898403381216089374640191430009991746531651223558'},\n",
       "  {'logStreamName': '2019/10/07/[$LATEST]c56d3cc87d6e41c3a18a4c9d1a66a6d1',\n",
       "   'timestamp': 1570415723401,\n",
       "   'message': '6\\n',\n",
       "   'ingestionTime': 1570415738043,\n",
       "   'eventId': '35021440903331845904964642354470823748247034424472895495'},\n",
       "  {'logStreamName': '2019/10/07/[$LATEST]c56d3cc87d6e41c3a18a4c9d1a66a6d1',\n",
       "   'timestamp': 1570415723401,\n",
       "   'message': '{\\'ResponseMetadata\\': {\\'RequestId\\': \\'63B6EC72366DBA3C\\', \\'HostId\\': \\'AmPXncF9ntU2hrptVb37D7hROEx5jcWaKRaELWAzGQ21D6NAtgOrCCMl8OTGF8by2Pb8yyp+BXM=\\', \\'HTTPStatusCode\\': 200, \\'HTTPHeaders\\': {\\'x-amz-id-2\\': \\'AmPXncF9ntU2hrptVb37D7hROEx5jcWaKRaELWAzGQ21D6NAtgOrCCMl8OTGF8by2Pb8yyp+BXM=\\', \\'x-amz-request-id\\': \\'63B6EC72366DBA3C\\', \\'date\\': \\'Mon, 07 Oct 2019 02:35:24 GMT\\', \\'etag\\': \\'\"691aabc8fd355b2b985334afc0003b7f\"\\', \\'content-length\\': \\'0\\', \\'server\\': \\'AmazonS3\\'}, \\'RetryAttempts\\': 0}, \\'ETag\\': \\'\"691aabc8fd355b2b985334afc0003b7f\"\\'}\\n',\n",
       "   'ingestionTime': 1570415738043,\n",
       "   'eventId': '35021440903331845904964642354470823748247034424472895496'},\n",
       "  {'logStreamName': '2019/10/07/[$LATEST]c56d3cc87d6e41c3a18a4c9d1a66a6d1',\n",
       "   'timestamp': 1570415723401,\n",
       "   'message': '5\\n',\n",
       "   'ingestionTime': 1570415738043,\n",
       "   'eventId': '35021440903331845904964642354470823748247034424472895497'},\n",
       "  {'logStreamName': '2019/10/07/[$LATEST]c56d3cc87d6e41c3a18a4c9d1a66a6d1',\n",
       "   'timestamp': 1570415723500,\n",
       "   'message': '6\\n',\n",
       "   'ingestionTime': 1570415738043,\n",
       "   'eventId': '35021440905539619679619174045482859857239222213564956682'},\n",
       "  {'logStreamName': '2019/10/07/[$LATEST]c56d3cc87d6e41c3a18a4c9d1a66a6d1',\n",
       "   'timestamp': 1570415723500,\n",
       "   'message': '{\\'ResponseMetadata\\': {\\'RequestId\\': \\'CE14D4B66C5C36FF\\', \\'HostId\\': \\'7Xujjue5xJYkk5Uy19TzrgjVOoMvPpj9BWWc7rqxpnEvyk8HWs2F/yf0f+rVtd0D/IswMWeP7y8=\\', \\'HTTPStatusCode\\': 200, \\'HTTPHeaders\\': {\\'x-amz-id-2\\': \\'7Xujjue5xJYkk5Uy19TzrgjVOoMvPpj9BWWc7rqxpnEvyk8HWs2F/yf0f+rVtd0D/IswMWeP7y8=\\', \\'x-amz-request-id\\': \\'CE14D4B66C5C36FF\\', \\'date\\': \\'Mon, 07 Oct 2019 02:35:24 GMT\\', \\'etag\\': \\'\"fbf65e89c83533c997a8eb9da2646f8e\"\\', \\'content-length\\': \\'0\\', \\'server\\': \\'AmazonS3\\'}, \\'RetryAttempts\\': 0}, \\'ETag\\': \\'\"fbf65e89c83533c997a8eb9da2646f8e\"\\'}\\n',\n",
       "   'ingestionTime': 1570415738043,\n",
       "   'eventId': '35021440905539619679619174045482859857239222213564956683'},\n",
       "  {'logStreamName': '2019/10/07/[$LATEST]c56d3cc87d6e41c3a18a4c9d1a66a6d1',\n",
       "   'timestamp': 1570415723500,\n",
       "   'message': '7\\n',\n",
       "   'ingestionTime': 1570415738043,\n",
       "   'eventId': '35021440905539619679619174045482859857239222213564956684'},\n",
       "  {'logStreamName': '2019/10/07/[$LATEST]c56d3cc87d6e41c3a18a4c9d1a66a6d1',\n",
       "   'timestamp': 1570415723530,\n",
       "   'message': '\\ndeleted file:\\n',\n",
       "   'ingestionTime': 1570415738043,\n",
       "   'eventId': '35021440906208642035575092739728931405418673058744369165'},\n",
       "  {'logStreamName': '2019/10/07/[$LATEST]c56d3cc87d6e41c3a18a4c9d1a66a6d1',\n",
       "   'timestamp': 1570415723530,\n",
       "   'message': \"{'ResponseMetadata': {'RequestId': 'A7EBAF8FE065B419', 'HostId': 'jC20vKR7AT/8j5SddFMZoIejRpruJ3LYiKQJgrCBQt/Jmd5onYn0Cpabv/Up35dPhurogxO9a9s=', 'HTTPStatusCode': 204, 'HTTPHeaders': {'x-amz-id-2': 'jC20vKR7AT/8j5SddFMZoIejRpruJ3LYiKQJgrCBQt/Jmd5onYn0Cpabv/Up35dPhurogxO9a9s=', 'x-amz-request-id': 'A7EBAF8FE065B419', 'date': 'Mon, 07 Oct 2019 02:35:24 GMT', 'server': 'AmazonS3'}, 'RetryAttempts': 0}}\\n\",\n",
       "   'ingestionTime': 1570415738043,\n",
       "   'eventId': '35021440906208642035575092739728931405418673058744369166'},\n",
       "  {'logStreamName': '2019/10/07/[$LATEST]c56d3cc87d6e41c3a18a4c9d1a66a6d1',\n",
       "   'timestamp': 1570415723530,\n",
       "   'message': '8\\n',\n",
       "   'ingestionTime': 1570415738043,\n",
       "   'eventId': '35021440906208642035575092739728931405418673058744369167'},\n",
       "  {'logStreamName': '2019/10/07/[$LATEST]c56d3cc87d6e41c3a18a4c9d1a66a6d1',\n",
       "   'timestamp': 1570415723540,\n",
       "   'message': 'END RequestId: 39e705d5-3fb7-4bcd-88a3-9625aae08130\\n',\n",
       "   'ingestionTime': 1570415738043,\n",
       "   'eventId': '35021440906431649487560398971144288588145156673804173328'},\n",
       "  {'logStreamName': '2019/10/07/[$LATEST]c56d3cc87d6e41c3a18a4c9d1a66a6d1',\n",
       "   'timestamp': 1570415723541,\n",
       "   'message': 'REPORT RequestId: 39e705d5-3fb7-4bcd-88a3-9625aae08130\\tDuration: 626.72 ms\\tBilled Duration: 700 ms\\tMemory Size: 128 MB\\tMax Memory Used: 81 MB\\tInit Duration: 360.51 ms\\t\\n',\n",
       "   'ingestionTime': 1570415738043,\n",
       "   'eventId': '35021440906453950232758929594285824306417805035310153745'},\n",
       "  {'logStreamName': '2019/10/07/[$LATEST]c56d3cc87d6e41c3a18a4c9d1a66a6d1',\n",
       "   'timestamp': 1570415734492,\n",
       "   'message': 'START RequestId: 275dc668-16df-4041-818b-7ae47e04f573 Version: $LATEST\\n',\n",
       "   'ingestionTime': 1570415738043,\n",
       "   'eventId': '35021441150669410901867783617243475110190011887301689362'},\n",
       "  {'logStreamName': '2019/10/07/[$LATEST]c56d3cc87d6e41c3a18a4c9d1a66a6d1',\n",
       "   'timestamp': 1570415734495,\n",
       "   'message': '1\\n',\n",
       "   'ingestionTime': 1570415738043,\n",
       "   'eventId': '35021441150736313137463375486668082265007956971819630611'},\n",
       "  {'logStreamName': '2019/10/07/[$LATEST]c56d3cc87d6e41c3a18a4c9d1a66a6d1',\n",
       "   'timestamp': 1570415734495,\n",
       "   'message': \"{'Records': [{'eventVersion': '2.1', 'eventSource': 'aws:s3', 'awsRegion': 'us-east-1', 'eventTime': '2019-10-07T02:31:07.647Z', 'eventName': 'ObjectCreated:Put', 'userIdentity': {'principalId': 'AWS:AIDAVYUVUBFCOOYKNWUUS'}, 'requestParameters': {'sourceIPAddress': '181.23.216.135'}, 'responseElements': {'x-amz-request-id': 'E80A72451A47032A', 'x-amz-id-2': 'S3zpZg6gO5JTZRPmtL3lOyYHRX2CYlByjKpr657Sm8XfKPx57+cSKwA1uLOJFSmAceZt7ENpUk4='}, 's3': {'s3SchemaVersion': '1.0', 'configurationId': 'ZDEzZTcxNjgtZmFiMC00ZTYzLWI0N2YtMTZjODkxZmQxYjZj', 'bucket': {'name': 'test-zip-origin-jf', 'ownerIdentity': {'principalId': 'A1W5MKE6MCI7XX'}, 'arn': 'arn:aws:s3:::test-zip-origin-jf'}, 'object': {'key': 'testdata.zip', 'size': 334, 'eTag': '53f4bdbf8af8bad4613742e9f78078bb', 'sequencer': '005D9AA36B64A96C0D'}}}]}\\n\",\n",
       "   'ingestionTime': 1570415738043,\n",
       "   'eventId': '35021441150736313137463375486668082265007956971819630612'},\n",
       "  {'logStreamName': '2019/10/07/[$LATEST]c56d3cc87d6e41c3a18a4c9d1a66a6d1',\n",
       "   'timestamp': 1570415734495,\n",
       "   'message': 'testdata.zip\\n',\n",
       "   'ingestionTime': 1570415738043,\n",
       "   'eventId': '35021441150736313137463375486668082265007956971819630613'},\n",
       "  {'logStreamName': '2019/10/07/[$LATEST]c56d3cc87d6e41c3a18a4c9d1a66a6d1',\n",
       "   'timestamp': 1570415734680,\n",
       "   'message': 'An error occurred (NoSuchKey) when calling the GetObject operation: The specified key does not exist.\\n',\n",
       "   'ingestionTime': 1570415738043,\n",
       "   'eventId': '35021441154861950999191540767852190145447903850426007574'},\n",
       "  {'logStreamName': '2019/10/07/[$LATEST]c56d3cc87d6e41c3a18a4c9d1a66a6d1',\n",
       "   'timestamp': 1570415734680,\n",
       "   'message': '9\\n',\n",
       "   'ingestionTime': 1570415738043,\n",
       "   'eventId': '35021441154861950999191540767852190145447903850426007575'},\n",
       "  {'logStreamName': '2019/10/07/[$LATEST]c56d3cc87d6e41c3a18a4c9d1a66a6d1',\n",
       "   'timestamp': 1570415734701,\n",
       "   'message': '[ERROR] NoSuchKey: An error occurred (NoSuchKey) when calling the GetObject operation: The specified key does not exist.\\rTraceback (most recent call last):\\r\\xa0\\xa0File \"/var/task/lambda_unzip.py\", line 65, in lambda_handler\\r\\xa0\\xa0\\xa0\\xa0raise e\\r\\xa0\\xa0File \"/var/task/lambda_unzip.py\", line 26, in lambda_handler\\r\\xa0\\xa0\\xa0\\xa0Key = key,\\r\\xa0\\xa0File \"/var/task/botocore/client.py\", line 357, in _api_call\\r\\xa0\\xa0\\xa0\\xa0return self._make_api_call(operation_name, kwargs)\\r\\xa0\\xa0File \"/var/task/botocore/client.py\", line 661, in _make_api_call\\r\\xa0\\xa0\\xa0\\xa0raise error_class(parsed_response, operation_name)\\n',\n",
       "   'ingestionTime': 1570415738043,\n",
       "   'eventId': '35021441155330266648360683853824440229173519442051596312'},\n",
       "  {'logStreamName': '2019/10/07/[$LATEST]c56d3cc87d6e41c3a18a4c9d1a66a6d1',\n",
       "   'timestamp': 1570415734740,\n",
       "   'message': 'END RequestId: 275dc668-16df-4041-818b-7ae47e04f573\\n',\n",
       "   'ingestionTime': 1570415738043,\n",
       "   'eventId': '35021441156199995711103378156344333241806805540784832537'},\n",
       "  {'logStreamName': '2019/10/07/[$LATEST]c56d3cc87d6e41c3a18a4c9d1a66a6d1',\n",
       "   'timestamp': 1570415734740,\n",
       "   'message': 'REPORT RequestId: 275dc668-16df-4041-818b-7ae47e04f573\\tDuration: 226.25 ms\\tBilled Duration: 300 ms\\tMemory Size: 128 MB\\tMax Memory Used: 81 MB\\t\\n',\n",
       "   'ingestionTime': 1570415738043,\n",
       "   'eventId': '35021441156199995711103378156344333241806805540784832538'},\n",
       "  {'logStreamName': '2019/10/07/[$LATEST]c56d3cc87d6e41c3a18a4c9d1a66a6d1',\n",
       "   'timestamp': 1570415798906,\n",
       "   'message': 'START RequestId: 275dc668-16df-4041-818b-7ae47e04f573 Version: $LATEST\\n',\n",
       "   'ingestionTime': 1570415798989,\n",
       "   'eventId': '35021442587149612120019342729804446241706170395041398784'},\n",
       "  {'logStreamName': '2019/10/07/[$LATEST]c56d3cc87d6e41c3a18a4c9d1a66a6d1',\n",
       "   'timestamp': 1570415798920,\n",
       "   'message': '1\\n',\n",
       "   'ingestionTime': 1570415814049,\n",
       "   'eventId': '35021442587461822552798771471992373833290387100599255040'},\n",
       "  {'logStreamName': '2019/10/07/[$LATEST]c56d3cc87d6e41c3a18a4c9d1a66a6d1',\n",
       "   'timestamp': 1570415798960,\n",
       "   'message': \"{'Records': [{'eventVersion': '2.1', 'eventSource': 'aws:s3', 'awsRegion': 'us-east-1', 'eventTime': '2019-10-07T02:31:07.647Z', 'eventName': 'ObjectCreated:Put', 'userIdentity': {'principalId': 'AWS:AIDAVYUVUBFCOOYKNWUUS'}, 'requestParameters': {'sourceIPAddress': '181.23.216.135'}, 'responseElements': {'x-amz-request-id': 'E80A72451A47032A', 'x-amz-id-2': 'S3zpZg6gO5JTZRPmtL3lOyYHRX2CYlByjKpr657Sm8XfKPx57+cSKwA1uLOJFSmAceZt7ENpUk4='}, 's3': {'s3SchemaVersion': '1.0', 'configurationId': 'ZDEzZTcxNjgtZmFiMC00ZTYzLWI0N2YtMTZjODkxZmQxYjZj', 'bucket': {'name': 'test-zip-origin-jf', 'ownerIdentity': {'principalId': 'A1W5MKE6MCI7XX'}, 'arn': 'arn:aws:s3:::test-zip-origin-jf'}, 'object': {'key': 'testdata.zip', 'size': 334, 'eTag': '53f4bdbf8af8bad4613742e9f78078bb', 'sequencer': '005D9AA36B64A96C0D'}}}]}\\n\",\n",
       "   'ingestionTime': 1570415814049,\n",
       "   'eventId': '35021442588353852360739996397653802564196321560838471681'},\n",
       "  {'logStreamName': '2019/10/07/[$LATEST]c56d3cc87d6e41c3a18a4c9d1a66a6d1',\n",
       "   'timestamp': 1570415798960,\n",
       "   'message': 'testdata.zip\\n',\n",
       "   'ingestionTime': 1570415814049,\n",
       "   'eventId': '35021442588353852360739996397653802564196321560838471682'},\n",
       "  {'logStreamName': '2019/10/07/[$LATEST]c56d3cc87d6e41c3a18a4c9d1a66a6d1',\n",
       "   'timestamp': 1570415799100,\n",
       "   'message': 'An error occurred (NoSuchKey) when calling the GetObject operation: The specified key does not exist.\\n',\n",
       "   'ingestionTime': 1570415814049,\n",
       "   'eventId': '35021442591475956688534283637468803122367092171675729923'},\n",
       "  {'logStreamName': '2019/10/07/[$LATEST]c56d3cc87d6e41c3a18a4c9d1a66a6d1',\n",
       "   'timestamp': 1570415799100,\n",
       "   'message': '9\\n',\n",
       "   'ingestionTime': 1570415814049,\n",
       "   'eventId': '35021442591475956688534283637468803122367092171675729924'},\n",
       "  {'logStreamName': '2019/10/07/[$LATEST]c56d3cc87d6e41c3a18a4c9d1a66a6d1',\n",
       "   'timestamp': 1570415799100,\n",
       "   'message': '[ERROR] NoSuchKey: An error occurred (NoSuchKey) when calling the GetObject operation: The specified key does not exist.\\rTraceback (most recent call last):\\r\\xa0\\xa0File \"/var/task/lambda_unzip.py\", line 65, in lambda_handler\\r\\xa0\\xa0\\xa0\\xa0raise e\\r\\xa0\\xa0File \"/var/task/lambda_unzip.py\", line 26, in lambda_handler\\r\\xa0\\xa0\\xa0\\xa0Key = key,\\r\\xa0\\xa0File \"/var/task/botocore/client.py\", line 357, in _api_call\\r\\xa0\\xa0\\xa0\\xa0return self._make_api_call(operation_name, kwargs)\\r\\xa0\\xa0File \"/var/task/botocore/client.py\", line 661, in _make_api_call\\r\\xa0\\xa0\\xa0\\xa0raise error_class(parsed_response, operation_name)\\n',\n",
       "   'ingestionTime': 1570415814049,\n",
       "   'eventId': '35021442591475956688534283637468803122367092171675729925'},\n",
       "  {'logStreamName': '2019/10/07/[$LATEST]c56d3cc87d6e41c3a18a4c9d1a66a6d1',\n",
       "   'timestamp': 1570415799121,\n",
       "   'message': 'END RequestId: 275dc668-16df-4041-818b-7ae47e04f573\\n',\n",
       "   'ingestionTime': 1570415814049,\n",
       "   'eventId': '35021442591944272337703426723441053206092707763301318662'},\n",
       "  {'logStreamName': '2019/10/07/[$LATEST]c56d3cc87d6e41c3a18a4c9d1a66a6d1',\n",
       "   'timestamp': 1570415799121,\n",
       "   'message': 'REPORT RequestId: 275dc668-16df-4041-818b-7ae47e04f573\\tDuration: 211.82 ms\\tBilled Duration: 300 ms\\tMemory Size: 128 MB\\tMax Memory Used: 81 MB\\t\\n',\n",
       "   'ingestionTime': 1570415814049,\n",
       "   'eventId': '35021442591944272337703426723441053206092707763301318663'},\n",
       "  {'logStreamName': '2019/10/07/[$LATEST]c56d3cc87d6e41c3a18a4c9d1a66a6d1',\n",
       "   'timestamp': 1570415891240,\n",
       "   'message': 'START RequestId: 669087c1-eae5-480e-86fd-380cfba0e6c5 Version: $LATEST\\n',\n",
       "   'ingestionTime': 1570415891330,\n",
       "   'eventId': '35021444646266619281145899991996756786990043645340614656'},\n",
       "  {'logStreamName': '2019/10/07/[$LATEST]c56d3cc87d6e41c3a18a4c9d1a66a6d1',\n",
       "   'timestamp': 1570415891300,\n",
       "   'message': '1\\n',\n",
       "   'ingestionTime': 1570415906412,\n",
       "   'eventId': '35021444647604663993057737398721813878658154564536172544'},\n",
       "  {'logStreamName': '2019/10/07/[$LATEST]c56d3cc87d6e41c3a18a4c9d1a66a6d1',\n",
       "   'timestamp': 1570415891300,\n",
       "   'message': \"{'Records': [{'eventVersion': '2.1', 'eventSource': 'aws:s3', 'awsRegion': 'us-east-1', 'eventTime': '2019-10-07T02:30:06.051Z', 'eventName': 'ObjectCreated:Put', 'userIdentity': {'principalId': 'AWS:AIDAVYUVUBFCOOYKNWUUS'}, 'requestParameters': {'sourceIPAddress': '181.23.216.135'}, 'responseElements': {'x-amz-request-id': 'AD42F401CAF7EA30', 'x-amz-id-2': '0jQo/JulXY9pFudtM9xjZESE1GtgLJrPl98VPGSQhU2vdY1vH+o9wnIQeSJ2LIkpoKxz6214OSY='}, 's3': {'s3SchemaVersion': '1.0', 'configurationId': 'ZDEzZTcxNjgtZmFiMC00ZTYzLWI0N2YtMTZjODkxZmQxYjZj', 'bucket': {'name': 'test-zip-origin-jf', 'ownerIdentity': {'principalId': 'A1W5MKE6MCI7XX'}, 'arn': 'arn:aws:s3:::test-zip-origin-jf'}, 'object': {'key': 'testdata.zip', 'size': 334, 'eTag': '53f4bdbf8af8bad4613742e9f78078bb', 'sequencer': '005D9AA32DA7CB6E98'}}}]}\\n\",\n",
       "   'ingestionTime': 1570415906412,\n",
       "   'eventId': '35021444647604663993057737398721813878658154564536172545'},\n",
       "  {'logStreamName': '2019/10/07/[$LATEST]c56d3cc87d6e41c3a18a4c9d1a66a6d1',\n",
       "   'timestamp': 1570415891300,\n",
       "   'message': 'testdata.zip\\n',\n",
       "   'ingestionTime': 1570415906412,\n",
       "   'eventId': '35021444647604663993057737398721813878658154564536172546'},\n",
       "  {'logStreamName': '2019/10/07/[$LATEST]c56d3cc87d6e41c3a18a4c9d1a66a6d1',\n",
       "   'timestamp': 1570415891460,\n",
       "   'message': 'An error occurred (NoSuchKey) when calling the GetObject operation: The specified key does not exist.\\n',\n",
       "   'ingestionTime': 1570415906412,\n",
       "   'eventId': '35021444651172783224822637101367528802281892405493039107'},\n",
       "  {'logStreamName': '2019/10/07/[$LATEST]c56d3cc87d6e41c3a18a4c9d1a66a6d1',\n",
       "   'timestamp': 1570415891460,\n",
       "   'message': '9\\n',\n",
       "   'ingestionTime': 1570415906412,\n",
       "   'eventId': '35021444651172783224822637101367528802281892405493039108'},\n",
       "  {'logStreamName': '2019/10/07/[$LATEST]c56d3cc87d6e41c3a18a4c9d1a66a6d1',\n",
       "   'timestamp': 1570415891460,\n",
       "   'message': '[ERROR] NoSuchKey: An error occurred (NoSuchKey) when calling the GetObject operation: The specified key does not exist.\\rTraceback (most recent call last):\\r\\xa0\\xa0File \"/var/task/lambda_unzip.py\", line 65, in lambda_handler\\r\\xa0\\xa0\\xa0\\xa0raise e\\r\\xa0\\xa0File \"/var/task/lambda_unzip.py\", line 26, in lambda_handler\\r\\xa0\\xa0\\xa0\\xa0Key = key,\\r\\xa0\\xa0File \"/var/task/botocore/client.py\", line 357, in _api_call\\r\\xa0\\xa0\\xa0\\xa0return self._make_api_call(operation_name, kwargs)\\r\\xa0\\xa0File \"/var/task/botocore/client.py\", line 661, in _make_api_call\\r\\xa0\\xa0\\xa0\\xa0raise error_class(parsed_response, operation_name)\\n',\n",
       "   'ingestionTime': 1570415906412,\n",
       "   'eventId': '35021444651172783224822637101367528802281892405493039109'},\n",
       "  {'logStreamName': '2019/10/07/[$LATEST]c56d3cc87d6e41c3a18a4c9d1a66a6d1',\n",
       "   'timestamp': 1570415891461,\n",
       "   'message': 'END RequestId: 669087c1-eae5-480e-86fd-380cfba0e6c5\\n',\n",
       "   'ingestionTime': 1570415906412,\n",
       "   'eventId': '35021444651195083970021167724509064520554540766999019526'},\n",
       "  {'logStreamName': '2019/10/07/[$LATEST]c56d3cc87d6e41c3a18a4c9d1a66a6d1',\n",
       "   'timestamp': 1570415891461,\n",
       "   'message': 'REPORT RequestId: 669087c1-eae5-480e-86fd-380cfba0e6c5\\tDuration: 217.32 ms\\tBilled Duration: 300 ms\\tMemory Size: 128 MB\\tMax Memory Used: 81 MB\\t\\n',\n",
       "   'ingestionTime': 1570415906412,\n",
       "   'eventId': '35021444651195083970021167724509064520554540766999019527'},\n",
       "  {'logStreamName': '2019/10/07/[$LATEST]c56d3cc87d6e41c3a18a4c9d1a66a6d1',\n",
       "   'timestamp': 1570415903872,\n",
       "   'message': 'START RequestId: 7dc81d40-f086-448f-98ad-889eb4cb57ae Version: $LATEST\\n',\n",
       "   'ingestionTime': 1570415906412,\n",
       "   'eventId': '35021444927969632628984731534108864002393355417721962504'},\n",
       "  {'logStreamName': '2019/10/07/[$LATEST]c56d3cc87d6e41c3a18a4c9d1a66a6d1',\n",
       "   'timestamp': 1570415903875,\n",
       "   'message': '1\\n',\n",
       "   'ingestionTime': 1570415906412,\n",
       "   'eventId': '35021444928036534864580323403533471157211300502239903753'},\n",
       "  {'logStreamName': '2019/10/07/[$LATEST]c56d3cc87d6e41c3a18a4c9d1a66a6d1',\n",
       "   'timestamp': 1570415903875,\n",
       "   'message': \"{'Records': [{'eventVersion': '2.1', 'eventSource': 'aws:s3', 'awsRegion': 'us-east-1', 'eventTime': '2019-10-07T02:38:23.719Z', 'eventName': 'ObjectCreated:Put', 'userIdentity': {'principalId': 'AWS:AIDAVYUVUBFCOOYKNWUUS'}, 'requestParameters': {'sourceIPAddress': '181.23.216.135'}, 'responseElements': {'x-amz-request-id': 'B3AB91699DF97C98', 'x-amz-id-2': 'qigUePvezJmRo49hY4XKhaYVSLTh1Yuj/oe9BbPFbTdGqockr8nQBJvkIx/QKG/rlrHYKPuH9iY='}, 's3': {'s3SchemaVersion': '1.0', 'configurationId': 'ZDEzZTcxNjgtZmFiMC00ZTYzLWI0N2YtMTZjODkxZmQxYjZj', 'bucket': {'name': 'test-zip-origin-jf', 'ownerIdentity': {'principalId': 'A1W5MKE6MCI7XX'}, 'arn': 'arn:aws:s3:::test-zip-origin-jf'}, 'object': {'key': 'testdata.zip', 'size': 334, 'eTag': '53f4bdbf8af8bad4613742e9f78078bb', 'sequencer': '005D9AA51F7BD23960'}}}]}\\n\",\n",
       "   'ingestionTime': 1570415906412,\n",
       "   'eventId': '35021444928036534864580323403533471157211300502239903754'},\n",
       "  {'logStreamName': '2019/10/07/[$LATEST]c56d3cc87d6e41c3a18a4c9d1a66a6d1',\n",
       "   'timestamp': 1570415903875,\n",
       "   'message': 'testdata.zip\\n',\n",
       "   'ingestionTime': 1570415906412,\n",
       "   'eventId': '35021444928036534864580323403533471157211300502239903755'},\n",
       "  {'logStreamName': '2019/10/07/[$LATEST]c56d3cc87d6e41c3a18a4c9d1a66a6d1',\n",
       "   'timestamp': 1570415904040,\n",
       "   'message': '2\\n',\n",
       "   'ingestionTime': 1570415906412,\n",
       "   'eventId': '35021444931716157822337876221886864672198280150726672396'},\n",
       "  {'logStreamName': '2019/10/07/[$LATEST]c56d3cc87d6e41c3a18a4c9d1a66a6d1',\n",
       "   'timestamp': 1570415904040,\n",
       "   'message': '3\\n',\n",
       "   'ingestionTime': 1570415906412,\n",
       "   'eventId': '35021444931716157822337876221886864672198280150726672397'},\n",
       "  {'logStreamName': '2019/10/07/[$LATEST]c56d3cc87d6e41c3a18a4c9d1a66a6d1',\n",
       "   'timestamp': 1570415904040,\n",
       "   'message': '4\\n',\n",
       "   'ingestionTime': 1570415906412,\n",
       "   'eventId': '35021444931716157822337876221886864672198280150726672398'},\n",
       "  {'logStreamName': '2019/10/07/[$LATEST]c56d3cc87d6e41c3a18a4c9d1a66a6d1',\n",
       "   'timestamp': 1570415904040,\n",
       "   'message': '5\\n',\n",
       "   'ingestionTime': 1570415906412,\n",
       "   'eventId': '35021444931716157822337876221886864672198280150726672399'},\n",
       "  {'logStreamName': '2019/10/07/[$LATEST]c56d3cc87d6e41c3a18a4c9d1a66a6d1',\n",
       "   'timestamp': 1570415904236,\n",
       "   'message': '6\\n',\n",
       "   'ingestionTime': 1570415906412,\n",
       "   'eventId': '35021444936087103881249878357627865453637359005898833936'},\n",
       "  {'logStreamName': '2019/10/07/[$LATEST]c56d3cc87d6e41c3a18a4c9d1a66a6d1',\n",
       "   'timestamp': 1570415904236,\n",
       "   'message': '{\\'ResponseMetadata\\': {\\'RequestId\\': \\'FC5B7EF10E39E04E\\', \\'HostId\\': \\'bSivy0gKGd0nj8AnhekPm6MgxHMuF6/6FXQIGghgOcJZGjqABHYizF2Y0uezNzHHz9j61VOEXwI=\\', \\'HTTPStatusCode\\': 200, \\'HTTPHeaders\\': {\\'x-amz-id-2\\': \\'bSivy0gKGd0nj8AnhekPm6MgxHMuF6/6FXQIGghgOcJZGjqABHYizF2Y0uezNzHHz9j61VOEXwI=\\', \\'x-amz-request-id\\': \\'FC5B7EF10E39E04E\\', \\'date\\': \\'Mon, 07 Oct 2019 02:38:25 GMT\\', \\'etag\\': \\'\"691aabc8fd355b2b985334afc0003b7f\"\\', \\'content-length\\': \\'0\\', \\'server\\': \\'AmazonS3\\'}, \\'RetryAttempts\\': 0}, \\'ETag\\': \\'\"691aabc8fd355b2b985334afc0003b7f\"\\'}\\n',\n",
       "   'ingestionTime': 1570415906412,\n",
       "   'eventId': '35021444936087103881249878357627865453637359005898833937'},\n",
       "  {'logStreamName': '2019/10/07/[$LATEST]c56d3cc87d6e41c3a18a4c9d1a66a6d1',\n",
       "   'timestamp': 1570415904236,\n",
       "   'message': '5\\n',\n",
       "   'ingestionTime': 1570415906412,\n",
       "   'eventId': '35021444936087103881249878357627865453637359005898833938'},\n",
       "  {'logStreamName': '2019/10/07/[$LATEST]c56d3cc87d6e41c3a18a4c9d1a66a6d1',\n",
       "   'timestamp': 1570415904340,\n",
       "   'message': '6\\n',\n",
       "   'ingestionTime': 1570415906412,\n",
       "   'eventId': '35021444938406381381897063164347580153992788602520797203'},\n",
       "  {'logStreamName': '2019/10/07/[$LATEST]c56d3cc87d6e41c3a18a4c9d1a66a6d1',\n",
       "   'timestamp': 1570415904340,\n",
       "   'message': '{\\'ResponseMetadata\\': {\\'RequestId\\': \\'9D0C49607CEEFBAB\\', \\'HostId\\': \\'Sg+PP/tGvLM+tnD1mWd+oyOs2xQPgQczs0/dQoH4dq2S+S1NoTKZt6/3bZPYYDLJWdK34UCwnUs=\\', \\'HTTPStatusCode\\': 200, \\'HTTPHeaders\\': {\\'x-amz-id-2\\': \\'Sg+PP/tGvLM+tnD1mWd+oyOs2xQPgQczs0/dQoH4dq2S+S1NoTKZt6/3bZPYYDLJWdK34UCwnUs=\\', \\'x-amz-request-id\\': \\'9D0C49607CEEFBAB\\', \\'date\\': \\'Mon, 07 Oct 2019 02:38:25 GMT\\', \\'etag\\': \\'\"fbf65e89c83533c997a8eb9da2646f8e\"\\', \\'content-length\\': \\'0\\', \\'server\\': \\'AmazonS3\\'}, \\'RetryAttempts\\': 0}, \\'ETag\\': \\'\"fbf65e89c83533c997a8eb9da2646f8e\"\\'}\\n',\n",
       "   'ingestionTime': 1570415906412,\n",
       "   'eventId': '35021444938406381381897063164347580153992788602520797204'},\n",
       "  {'logStreamName': '2019/10/07/[$LATEST]c56d3cc87d6e41c3a18a4c9d1a66a6d1',\n",
       "   'timestamp': 1570415904340,\n",
       "   'message': '7\\n',\n",
       "   'ingestionTime': 1570415906412,\n",
       "   'eventId': '35021444938406381381897063164347580153992788602520797205'},\n",
       "  {'logStreamName': '2019/10/07/[$LATEST]c56d3cc87d6e41c3a18a4c9d1a66a6d1',\n",
       "   'timestamp': 1570415904440,\n",
       "   'message': '\\ndeleted file:\\n',\n",
       "   'ingestionTime': 1570415906412,\n",
       "   'eventId': '35021444940636455901750125478501151981257624753118838806'},\n",
       "  {'logStreamName': '2019/10/07/[$LATEST]c56d3cc87d6e41c3a18a4c9d1a66a6d1',\n",
       "   'timestamp': 1570415904440,\n",
       "   'message': \"{'ResponseMetadata': {'RequestId': 'C343C3FD307B1AA3', 'HostId': 'CcUckBibnmYEWTBWdhh0cOBgISVDZe/gO0mIa6Hbd5OwdzlbHeTlNhP/CMgcpDxFp6Pelkj6aU4=', 'HTTPStatusCode': 204, 'HTTPHeaders': {'x-amz-id-2': 'CcUckBibnmYEWTBWdhh0cOBgISVDZe/gO0mIa6Hbd5OwdzlbHeTlNhP/CMgcpDxFp6Pelkj6aU4=', 'x-amz-request-id': 'C343C3FD307B1AA3', 'date': 'Mon, 07 Oct 2019 02:38:25 GMT', 'server': 'AmazonS3'}, 'RetryAttempts': 0}}\\n\",\n",
       "   'ingestionTime': 1570415906412,\n",
       "   'eventId': '35021444940636455901750125478501151981257624753118838807'},\n",
       "  {'logStreamName': '2019/10/07/[$LATEST]c56d3cc87d6e41c3a18a4c9d1a66a6d1',\n",
       "   'timestamp': 1570415904440,\n",
       "   'message': '8\\n',\n",
       "   'ingestionTime': 1570415906412,\n",
       "   'eventId': '35021444940636455901750125478501151981257624753118838808'},\n",
       "  {'logStreamName': '2019/10/07/[$LATEST]c56d3cc87d6e41c3a18a4c9d1a66a6d1',\n",
       "   'timestamp': 1570415904441,\n",
       "   'message': 'END RequestId: 7dc81d40-f086-448f-98ad-889eb4cb57ae\\n',\n",
       "   'ingestionTime': 1570415906412,\n",
       "   'eventId': '35021444940658756646948656101642687699530273114624819225'},\n",
       "  {'logStreamName': '2019/10/07/[$LATEST]c56d3cc87d6e41c3a18a4c9d1a66a6d1',\n",
       "   'timestamp': 1570415904441,\n",
       "   'message': 'REPORT RequestId: 7dc81d40-f086-448f-98ad-889eb4cb57ae\\tDuration: 566.70 ms\\tBilled Duration: 600 ms\\tMemory Size: 128 MB\\tMax Memory Used: 81 MB\\t\\n',\n",
       "   'ingestionTime': 1570415906412,\n",
       "   'eventId': '35021444940658756646948656101642687699530273114624819226'},\n",
       "  {'logStreamName': '2019/10/07/[$LATEST]c56d3cc87d6e41c3a18a4c9d1a66a6d1',\n",
       "   'timestamp': 1570415912291,\n",
       "   'message': 'START RequestId: 275dc668-16df-4041-818b-7ae47e04f573 Version: $LATEST\\n',\n",
       "   'ingestionTime': 1570415912372,\n",
       "   'eventId': '35021445115719606455414047769903295167659808241935974400'}],\n",
       " 'searchedLogStreams': [{'logStreamName': '2019/10/07/[$LATEST]c56d3cc87d6e41c3a18a4c9d1a66a6d1',\n",
       "   'searchedCompletely': True}],\n",
       " 'ResponseMetadata': {'RequestId': '51410f44-94ac-4665-947f-aa51cfb50017',\n",
       "  'HTTPStatusCode': 200,\n",
       "  'HTTPHeaders': {'x-amzn-requestid': '51410f44-94ac-4665-947f-aa51cfb50017',\n",
       "   'content-type': 'application/x-amz-json-1.1',\n",
       "   'content-length': '25107',\n",
       "   'date': 'Mon, 07 Oct 2019 02:38:37 GMT'},\n",
       "  'RetryAttempts': 0}}"
      ]
     },
     "execution_count": 33,
     "metadata": {},
     "output_type": "execute_result"
    }
   ],
   "source": [
    "response = logs_client.filter_log_events(\n",
    "    logGroupName = aws_lambda_group_name,\n",
    ")\n",
    "response"
   ]
  },
  {
   "cell_type": "markdown",
   "metadata": {},
   "source": [
    "<hr></hr>"
   ]
  },
  {
   "cell_type": "markdown",
   "metadata": {},
   "source": [
    "## In case we need to update the lambda"
   ]
  },
  {
   "cell_type": "code",
   "execution_count": null,
   "metadata": {},
   "outputs": [],
   "source": [
    "with open(lambda_zip_file_path, 'rb') as f:\n",
    "    zipped_code = f.read()"
   ]
  },
  {
   "cell_type": "code",
   "execution_count": null,
   "metadata": {},
   "outputs": [],
   "source": [
    "lambda_update_response = lambda_client.update_function_code(\n",
    "    FunctionName = function_name,\n",
    "    ZipFile = zipped_code\n",
    ")\n",
    "lambda_update_response"
   ]
  },
  {
   "cell_type": "markdown",
   "metadata": {},
   "source": [
    "<hr></hr>"
   ]
  },
  {
   "cell_type": "markdown",
   "metadata": {},
   "source": [
    "## Clean"
   ]
  },
  {
   "cell_type": "code",
   "execution_count": 34,
   "metadata": {},
   "outputs": [
    {
     "data": {
      "text/plain": [
       "{'ResponseMetadata': {'RequestId': '3df98af3-e655-432b-a83d-f1191c2eca3d',\n",
       "  'HTTPStatusCode': 204,\n",
       "  'HTTPHeaders': {'date': 'Mon, 07 Oct 2019 02:41:53 GMT',\n",
       "   'content-type': 'application/json',\n",
       "   'connection': 'keep-alive',\n",
       "   'x-amzn-requestid': '3df98af3-e655-432b-a83d-f1191c2eca3d'},\n",
       "  'RetryAttempts': 0}}"
      ]
     },
     "execution_count": 34,
     "metadata": {},
     "output_type": "execute_result"
    }
   ],
   "source": [
    "lambda_client.delete_function(\n",
    "  FunctionName = function_name\n",
    ")"
   ]
  },
  {
   "cell_type": "code",
   "execution_count": 35,
   "metadata": {},
   "outputs": [
    {
     "data": {
      "text/plain": [
       "{'ResponseMetadata': {'RequestId': '06d8a1b3-e8ac-11e9-9340-1dcb31d95f83',\n",
       "  'HTTPStatusCode': 200,\n",
       "  'HTTPHeaders': {'x-amzn-requestid': '06d8a1b3-e8ac-11e9-9340-1dcb31d95f83',\n",
       "   'content-type': 'text/xml',\n",
       "   'content-length': '212',\n",
       "   'date': 'Mon, 07 Oct 2019 02:41:55 GMT'},\n",
       "  'RetryAttempts': 0}}"
      ]
     },
     "execution_count": 35,
     "metadata": {},
     "output_type": "execute_result"
    }
   ],
   "source": [
    "iam_client.detach_role_policy(\n",
    "    PolicyArn = arn_aws_lambda_execution_fulls3_role,\n",
    "    RoleName = role_lambda_s3_name\n",
    ")"
   ]
  },
  {
   "cell_type": "code",
   "execution_count": 36,
   "metadata": {},
   "outputs": [
    {
     "data": {
      "text/plain": [
       "{'ResponseMetadata': {'RequestId': '07a84d7e-e8ac-11e9-9340-1dcb31d95f83',\n",
       "  'HTTPStatusCode': 200,\n",
       "  'HTTPHeaders': {'x-amzn-requestid': '07a84d7e-e8ac-11e9-9340-1dcb31d95f83',\n",
       "   'content-type': 'text/xml',\n",
       "   'content-length': '212',\n",
       "   'date': 'Mon, 07 Oct 2019 02:41:56 GMT'},\n",
       "  'RetryAttempts': 0}}"
      ]
     },
     "execution_count": 36,
     "metadata": {},
     "output_type": "execute_result"
    }
   ],
   "source": [
    "iam_client.detach_role_policy(\n",
    "    PolicyArn = arn_amazon_s3_full_access,\n",
    "    RoleName = role_lambda_s3_name\n",
    ")"
   ]
  },
  {
   "cell_type": "code",
   "execution_count": 37,
   "metadata": {},
   "outputs": [
    {
     "data": {
      "text/plain": [
       "{'ResponseMetadata': {'RequestId': '08a041b6-e8ac-11e9-9340-1dcb31d95f83',\n",
       "  'HTTPStatusCode': 200,\n",
       "  'HTTPHeaders': {'x-amzn-requestid': '08a041b6-e8ac-11e9-9340-1dcb31d95f83',\n",
       "   'content-type': 'text/xml',\n",
       "   'content-length': '200',\n",
       "   'date': 'Mon, 07 Oct 2019 02:41:58 GMT'},\n",
       "  'RetryAttempts': 0}}"
      ]
     },
     "execution_count": 37,
     "metadata": {},
     "output_type": "execute_result"
    }
   ],
   "source": [
    "iam_client.delete_role(\n",
    "    RoleName = role_lambda_s3_name\n",
    ")"
   ]
  },
  {
   "cell_type": "code",
   "execution_count": 38,
   "metadata": {},
   "outputs": [
    {
     "data": {
      "text/plain": [
       "{'ResponseMetadata': {'RequestId': '8ADFDAC6812B2EA0',\n",
       "  'HostId': 'RkZKllHIcalWaH7Pq4gAa07O9pNKCFhbzpgcfjZTTY1XhGVlPngpwzA9icOttau+PpxHZGEyUsI=',\n",
       "  'HTTPStatusCode': 204,\n",
       "  'HTTPHeaders': {'x-amz-id-2': 'RkZKllHIcalWaH7Pq4gAa07O9pNKCFhbzpgcfjZTTY1XhGVlPngpwzA9icOttau+PpxHZGEyUsI=',\n",
       "   'x-amz-request-id': '8ADFDAC6812B2EA0',\n",
       "   'date': 'Mon, 07 Oct 2019 02:42:01 GMT',\n",
       "   'server': 'AmazonS3'},\n",
       "  'RetryAttempts': 0}}"
      ]
     },
     "execution_count": 38,
     "metadata": {},
     "output_type": "execute_result"
    }
   ],
   "source": [
    "s3_client.delete_bucket(\n",
    "    Bucket = origin_bucket\n",
    ")"
   ]
  },
  {
   "cell_type": "code",
   "execution_count": 39,
   "metadata": {},
   "outputs": [
    {
     "data": {
      "text/plain": [
       "[{'ResponseMetadata': {'RequestId': 'E21E470F82CF3EC7',\n",
       "   'HostId': 'cTBZbVbUwyJr1Vp/VcOYrVtiQFRtnRgKW4TQxN3X/k317mYQFZ/SHOlFtpnnVWvxG6IUguuSAn0=',\n",
       "   'HTTPStatusCode': 200,\n",
       "   'HTTPHeaders': {'x-amz-id-2': 'cTBZbVbUwyJr1Vp/VcOYrVtiQFRtnRgKW4TQxN3X/k317mYQFZ/SHOlFtpnnVWvxG6IUguuSAn0=',\n",
       "    'x-amz-request-id': 'E21E470F82CF3EC7',\n",
       "    'date': 'Mon, 07 Oct 2019 02:42:04 GMT',\n",
       "    'connection': 'close',\n",
       "    'content-type': 'application/xml',\n",
       "    'transfer-encoding': 'chunked',\n",
       "    'server': 'AmazonS3'},\n",
       "   'RetryAttempts': 0},\n",
       "  'Deleted': [{'Key': 'file_2.txt'}, {'Key': 'file_1.txt'}]}]"
      ]
     },
     "execution_count": 39,
     "metadata": {},
     "output_type": "execute_result"
    }
   ],
   "source": [
    "s3 = boto3.resource('s3')\n",
    "bucket = s3.Bucket(destiny_bucket)\n",
    "bucket.objects.all().delete()"
   ]
  },
  {
   "cell_type": "code",
   "execution_count": 40,
   "metadata": {},
   "outputs": [
    {
     "data": {
      "text/plain": [
       "{'ResponseMetadata': {'RequestId': 'E2F5615CFC3195D2',\n",
       "  'HostId': 'sY1gVT/yfZSgyDtuXM43reovj7coUuAx+W2noGEJrza63Fvrx9GUsm22abU5s7/t+43xCqnUmQQ=',\n",
       "  'HTTPStatusCode': 204,\n",
       "  'HTTPHeaders': {'x-amz-id-2': 'sY1gVT/yfZSgyDtuXM43reovj7coUuAx+W2noGEJrza63Fvrx9GUsm22abU5s7/t+43xCqnUmQQ=',\n",
       "   'x-amz-request-id': 'E2F5615CFC3195D2',\n",
       "   'date': 'Mon, 07 Oct 2019 02:42:05 GMT',\n",
       "   'server': 'AmazonS3'},\n",
       "  'RetryAttempts': 0}}"
      ]
     },
     "execution_count": 40,
     "metadata": {},
     "output_type": "execute_result"
    }
   ],
   "source": [
    "s3_client.delete_bucket(\n",
    "    Bucket = destiny_bucket\n",
    ")"
   ]
  },
  {
   "cell_type": "code",
   "execution_count": 41,
   "metadata": {},
   "outputs": [
    {
     "data": {
      "text/plain": [
       "{'ResponseMetadata': {'RequestId': '1631d3bd-c77e-483a-9a54-5967e6b480a5',\n",
       "  'HTTPStatusCode': 200,\n",
       "  'HTTPHeaders': {'x-amzn-requestid': '1631d3bd-c77e-483a-9a54-5967e6b480a5',\n",
       "   'content-type': 'application/x-amz-json-1.1',\n",
       "   'content-length': '0',\n",
       "   'date': 'Mon, 07 Oct 2019 02:42:07 GMT'},\n",
       "  'RetryAttempts': 0}}"
      ]
     },
     "execution_count": 41,
     "metadata": {},
     "output_type": "execute_result"
    }
   ],
   "source": [
    "logs_client.delete_log_group(\n",
    "    logGroupName = aws_lambda_group_name\n",
    ")"
   ]
  }
 ],
 "metadata": {
  "kernelspec": {
   "display_name": "Python 3",
   "language": "python",
   "name": "python3"
  },
  "language_info": {
   "codemirror_mode": {
    "name": "ipython",
    "version": 3
   },
   "file_extension": ".py",
   "mimetype": "text/x-python",
   "name": "python",
   "nbconvert_exporter": "python",
   "pygments_lexer": "ipython3",
   "version": "3.7.3"
  }
 },
 "nbformat": 4,
 "nbformat_minor": 2
}
